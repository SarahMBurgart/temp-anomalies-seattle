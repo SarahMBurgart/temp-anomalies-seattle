{
 "cells": [
  {
   "cell_type": "markdown",
   "metadata": {},
   "source": [
    "## Imports & Make it Pretty"
   ]
  },
  {
   "cell_type": "code",
   "execution_count": 213,
   "metadata": {},
   "outputs": [],
   "source": [
    "import pandas as pd\n",
    "import numpy as np\n",
    "from matplotlib import pyplot as plt\n",
    "\n",
    "#make it pretty\n",
    "plt.style.use('ggplot')\n",
    "\n",
    "%matplotlib inline\n"
   ]
  },
  {
   "cell_type": "markdown",
   "metadata": {},
   "source": [
    "## Data Data and ... More Data"
   ]
  },
  {
   "cell_type": "code",
   "execution_count": 70,
   "metadata": {},
   "outputs": [],
   "source": [
    "# unless otherwise noted :  data sets are 2009 June 1 - 2019 May 31 = dataset 2009\n",
    "df_2009 = pd.read_csv(\"/Users/sarahburgart/galvanize/week4-capstone-1/data/1749343.csv\", low_memory=False)\n",
    "df_1999 = pd.read_csv(\"/Users/sarahburgart/galvanize/week4-capstone-1/data/1749348.csv\", low_memory=False)\n",
    "df_1989 = pd.read_csv(\"/Users/sarahburgart/galvanize/week4-capstone-1/data/1749350.csv\", low_memory=False)\n",
    "# 1973 - 1979\n",
    "df_1973 = pd.read_csv(\"/Users/sarahburgart/galvanize/week4-capstone-1/data/1979.csv\", low_memory=False)\n",
    "# 1964 - 1973 - no idea why they weren't in the other data sets ...\n",
    "df_missing = pd.read_csv(\"/Users/sarahburgart/galvanize/week4-capstone-1/data/test.csv\", low_memory=False)\n",
    "# 1959 - 1964\n",
    "df_1959 = pd.read_csv(\"/Users/sarahburgart/galvanize/week4-capstone-1/data/1969.csv\", low_memory=False)\n",
    "df_1949 = pd.read_csv(\"/Users/sarahburgart/galvanize/week4-capstone-1/data/1959.csv\", low_memory=False)\n",
    "# october 1943 - May 31 1949\n",
    "df_1943 = pd.read_csv(\"/Users/sarahburgart/galvanize/week4-capstone-1/data/1949.csv\", low_memory=False)\n"
   ]
  },
  {
   "cell_type": "markdown",
   "metadata": {},
   "source": [
    "## Functions"
   ]
  },
  {
   "cell_type": "code",
   "execution_count": 237,
   "metadata": {},
   "outputs": [],
   "source": [
    "# clean data set of null values for one column\n",
    "# returns new dataframe\n",
    "\n",
    "def no_more_null (df, column_not_null):\n",
    "    df_mask = df[column_not_null].notnull()\n",
    "    new_df = pd.DataFrame(df[df_mask])\n",
    "    return new_df\n",
    "\n",
    "def year_month_cols (df):\n",
    "    df['year'] = pd.DatetimeIndex(df.loc[:,'DATE']).year\n",
    "    df['month'] = pd.DatetimeIndex(df.loc[:,'DATE']).month\n",
    "    return df"
   ]
  },
  {
   "cell_type": "markdown",
   "metadata": {},
   "source": [
    "#### Do Stuff with the Data and Functions\n",
    "## Take some columns from all Datasets and make 1 Dataset "
   ]
  },
  {
   "cell_type": "code",
   "execution_count": 131,
   "metadata": {},
   "outputs": [],
   "source": [
    "# to figure out what columns would be useful\n",
    "\n",
    "# df_dropna = df_1943.dropna(axis=1,thresh=9000)\n",
    "# df_dropna.shape\n",
    "# df_dropna"
   ]
  },
  {
   "cell_type": "code",
   "execution_count": 72,
   "metadata": {},
   "outputs": [],
   "source": [
    "# list of all datasets:\n",
    "lst_1949_2019 = [df_1943, df_1949, df_1959, df_missing, df_1973, df_1989, df_1999, df_2009]"
   ]
  },
  {
   "cell_type": "code",
   "execution_count": 106,
   "metadata": {},
   "outputs": [],
   "source": [
    "# list of all columns I want to include:\n",
    "lst_cols = [\"DATE\",\"MonthlyMeanTemperature\", \"MonthlyMaximumTemperature\", \"MonthlyMinimumTemperature\", \"ShortDurationPrecipitationValue150\", \"DailyAverageDryBulbTemperature\", \"HourlyDryBulbTemperature\", \"TStorms\", \"MonthlyTotalSnowfall\", \"DailySnowfall\", \"DailySnowDepth\"]\n"
   ]
  },
  {
   "cell_type": "code",
   "execution_count": 107,
   "metadata": {},
   "outputs": [],
   "source": [
    "# get only cols I want\n",
    "col_dfs = [x[lst_cols] for x in lst_1949_2019]"
   ]
  },
  {
   "cell_type": "code",
   "execution_count": 108,
   "metadata": {},
   "outputs": [],
   "source": [
    "# combine all dfs into one df\n",
    "all_dfs = pd.concat(col_dfs, axis=0)"
   ]
  },
  {
   "cell_type": "code",
   "execution_count": 114,
   "metadata": {},
   "outputs": [
    {
     "data": {
      "text/plain": [
       "(525458, 11)"
      ]
     },
     "execution_count": 114,
     "metadata": {},
     "output_type": "execute_result"
    }
   ],
   "source": [
    "# check that they all combined\n",
    "all_dfs.shape\n",
    "#all_dfs.head()"
   ]
  },
  {
   "cell_type": "code",
   "execution_count": 113,
   "metadata": {},
   "outputs": [
    {
     "data": {
      "text/plain": [
       "(476267, 11)"
      ]
     },
     "execution_count": 113,
     "metadata": {},
     "output_type": "execute_result"
    }
   ],
   "source": [
    "# remove null values and get year and month columns\n",
    "all_dfs_no_null = no_more_null(all_dfs, \"HourlyDryBulbTemperature\")\n",
    "#all_dfs_no_nulls = no_more_null(all_dfs, \"DailyAverageDryBulbTemperature\")\n",
    "all_dfs_no_null.shape\n",
    "\n",
    "# lost ~ 50,000 rows by doing no null Hourly Dry Bulb Temperature\n"
   ]
  },
  {
   "cell_type": "code",
   "execution_count": 242,
   "metadata": {},
   "outputs": [
    {
     "data": {
      "text/plain": [
       "(463700, 11)"
      ]
     },
     "execution_count": 242,
     "metadata": {},
     "output_type": "execute_result"
    }
   ],
   "source": [
    "# check for repetition\n",
    "\n",
    "\n",
    "\n",
    "# didn't work - came back with only 12823 entries\n",
    "# DatetimeIndex = all_dfs[\"DATE\"]\n",
    "# date_all_dfs = all_dfs[DatetimeIndex.duplicated(keep='first')]\n",
    "# date_all_dfs.shape\n",
    "\n",
    "# print(any(all_dfs_no_null['DATE'].duplicated()))\n",
    "\n",
    "drop_duplicate_dates = (all_dfs_no_null.drop_duplicates(\"DATE\")).copy()\n",
    "drop_duplicate_dates.shape\n"
   ]
  },
  {
   "cell_type": "code",
   "execution_count": 243,
   "metadata": {},
   "outputs": [],
   "source": [
    "# now we have all the data 10/1943 - 5/2019 duplicate dates removed, rows with null HourlyDryBulbTemperature removed\n",
    "\n",
    "# want the average temperature 1/1952 - 12/1999 to use as the base for the temperature anomaly maths\n",
    "\n",
    "# first need to make year and month columns\n",
    "mega_dfs = year_month_cols(drop_duplicate_dates)"
   ]
  },
  {
   "cell_type": "code",
   "execution_count": 208,
   "metadata": {},
   "outputs": [
    {
     "data": {
      "text/plain": [
       "0"
      ]
     },
     "execution_count": 208,
     "metadata": {},
     "output_type": "execute_result"
    }
   ],
   "source": [
    "ba_df = pd.DataFrame(mega_dfs[mega_dfs[\"year\"] < 2000 ])\n",
    "b_df = pd.DataFrame(ba_df[ba_df[\"year\"] > 1951])\n",
    "\n",
    "# base_df == 1952 - 1999\n",
    "\n",
    "# get mean of HourlyDryBulbTemperature\n",
    "base_df = b_df.reset_index()\n",
    "\n",
    "type(base_df.loc[0,\"HourlyDryBulbTemperature\"]) == float\n",
    "\n",
    "#base_df[base_df[\"HourlyDryBulbTemperature\"] \n",
    "\n",
    "base_df[\"HourlyDryBulbTemperature\"].astype(float, errors='ignore').isna().sum()"
   ]
  },
  {
   "cell_type": "code",
   "execution_count": 218,
   "metadata": {},
   "outputs": [
    {
     "data": {
      "text/plain": [
       "'46'"
      ]
     },
     "execution_count": 218,
     "metadata": {},
     "output_type": "execute_result"
    }
   ],
   "source": [
    "base_df[\"HourlyDryBulbTemperature\"].tail()\n",
    "base_df.loc[261185,\"HourlyDryBulbTemperature\"]"
   ]
  },
  {
   "cell_type": "code",
   "execution_count": 223,
   "metadata": {},
   "outputs": [
    {
     "data": {
      "text/plain": [
       "'46'"
      ]
     },
     "execution_count": 223,
     "metadata": {},
     "output_type": "execute_result"
    }
   ],
   "source": [
    "base_df[\"HourlyDryBulbTemperature\"].astype(int, errors='ignore')[261184] #.map(np.isreal)"
   ]
  },
  {
   "cell_type": "code",
   "execution_count": 233,
   "metadata": {},
   "outputs": [],
   "source": [
    "indices = (~base_df[\"HourlyDryBulbTemperature\"].astype(str).str[-1].str.isnumeric())\n",
    "base_df.loc[indices,\"HourlyDryBulbTemperature\"] = base_df.loc[indices,\"HourlyDryBulbTemperature\"].str[:-1]"
   ]
  },
  {
   "cell_type": "code",
   "execution_count": 245,
   "metadata": {},
   "outputs": [
    {
     "data": {
      "text/plain": [
       "52.89116185400442"
      ]
     },
     "execution_count": 245,
     "metadata": {},
     "output_type": "execute_result"
    }
   ],
   "source": [
    "base_df[\"HourlyDryBulbTemperature\"] = base_df[\"HourlyDryBulbTemperature\"].astype(float)\n",
    "base_mean = base_df[\"HourlyDryBulbTemperature\"].mean()\n",
    "base_mean"
   ]
  },
  {
   "cell_type": "code",
   "execution_count": 316,
   "metadata": {},
   "outputs": [],
   "source": [
    "mega_dfs[\"HourlyDryBulbTemperature\"] = mega_dfs[\"HourlyDryBulbTemperature\"].map(lambda x:float(x) if x!=\"\" else np.nan)"
   ]
  },
  {
   "cell_type": "code",
   "execution_count": 356,
   "metadata": {},
   "outputs": [],
   "source": [
    "# convert to celsius b/c I want to compare anything with any other climate concerned scientist not in USA"
   ]
  },
  {
   "cell_type": "code",
   "execution_count": 374,
   "metadata": {},
   "outputs": [
    {
     "data": {
      "text/html": [
       "<div>\n",
       "<style scoped>\n",
       "    .dataframe tbody tr th:only-of-type {\n",
       "        vertical-align: middle;\n",
       "    }\n",
       "\n",
       "    .dataframe tbody tr th {\n",
       "        vertical-align: top;\n",
       "    }\n",
       "\n",
       "    .dataframe thead th {\n",
       "        text-align: right;\n",
       "    }\n",
       "</style>\n",
       "<table border=\"1\" class=\"dataframe\">\n",
       "  <thead>\n",
       "    <tr style=\"text-align: right;\">\n",
       "      <th></th>\n",
       "      <th>year</th>\n",
       "      <th>HourlyDryBulbTemperature</th>\n",
       "      <th>mean temp in C</th>\n",
       "      <th>raw_anomaly</th>\n",
       "    </tr>\n",
       "  </thead>\n",
       "  <tbody>\n",
       "    <tr>\n",
       "      <th>1</th>\n",
       "      <td>1944</td>\n",
       "      <td>51.586045</td>\n",
       "      <td>10.881136</td>\n",
       "      <td>-0.725065</td>\n",
       "    </tr>\n",
       "    <tr>\n",
       "      <th>2</th>\n",
       "      <td>1948</td>\n",
       "      <td>50.481203</td>\n",
       "      <td>10.267335</td>\n",
       "      <td>-1.338866</td>\n",
       "    </tr>\n",
       "    <tr>\n",
       "      <th>3</th>\n",
       "      <td>1949</td>\n",
       "      <td>51.144603</td>\n",
       "      <td>10.635891</td>\n",
       "      <td>-0.970310</td>\n",
       "    </tr>\n",
       "    <tr>\n",
       "      <th>4</th>\n",
       "      <td>1950</td>\n",
       "      <td>50.970971</td>\n",
       "      <td>10.539429</td>\n",
       "      <td>-1.066772</td>\n",
       "    </tr>\n",
       "    <tr>\n",
       "      <th>5</th>\n",
       "      <td>1951</td>\n",
       "      <td>51.826350</td>\n",
       "      <td>11.014639</td>\n",
       "      <td>-0.591562</td>\n",
       "    </tr>\n",
       "    <tr>\n",
       "      <th>6</th>\n",
       "      <td>1952</td>\n",
       "      <td>51.866864</td>\n",
       "      <td>11.037147</td>\n",
       "      <td>-0.569054</td>\n",
       "    </tr>\n",
       "    <tr>\n",
       "      <th>7</th>\n",
       "      <td>1953</td>\n",
       "      <td>53.039963</td>\n",
       "      <td>11.688869</td>\n",
       "      <td>0.082668</td>\n",
       "    </tr>\n",
       "    <tr>\n",
       "      <th>8</th>\n",
       "      <td>1954</td>\n",
       "      <td>51.133805</td>\n",
       "      <td>10.629892</td>\n",
       "      <td>-0.976309</td>\n",
       "    </tr>\n",
       "    <tr>\n",
       "      <th>9</th>\n",
       "      <td>1955</td>\n",
       "      <td>49.597032</td>\n",
       "      <td>9.776129</td>\n",
       "      <td>-1.830072</td>\n",
       "    </tr>\n",
       "    <tr>\n",
       "      <th>10</th>\n",
       "      <td>1956</td>\n",
       "      <td>51.218085</td>\n",
       "      <td>10.676714</td>\n",
       "      <td>-0.929487</td>\n",
       "    </tr>\n",
       "    <tr>\n",
       "      <th>11</th>\n",
       "      <td>1957</td>\n",
       "      <td>52.190629</td>\n",
       "      <td>11.217016</td>\n",
       "      <td>-0.389185</td>\n",
       "    </tr>\n",
       "    <tr>\n",
       "      <th>12</th>\n",
       "      <td>1958</td>\n",
       "      <td>55.321840</td>\n",
       "      <td>12.956578</td>\n",
       "      <td>1.350377</td>\n",
       "    </tr>\n",
       "    <tr>\n",
       "      <th>13</th>\n",
       "      <td>1959</td>\n",
       "      <td>52.363055</td>\n",
       "      <td>11.312808</td>\n",
       "      <td>-0.293393</td>\n",
       "    </tr>\n",
       "    <tr>\n",
       "      <th>14</th>\n",
       "      <td>1960</td>\n",
       "      <td>52.307946</td>\n",
       "      <td>11.282192</td>\n",
       "      <td>-0.324009</td>\n",
       "    </tr>\n",
       "    <tr>\n",
       "      <th>15</th>\n",
       "      <td>1961</td>\n",
       "      <td>53.514113</td>\n",
       "      <td>11.952285</td>\n",
       "      <td>0.346084</td>\n",
       "    </tr>\n",
       "    <tr>\n",
       "      <th>16</th>\n",
       "      <td>1962</td>\n",
       "      <td>52.640753</td>\n",
       "      <td>11.467085</td>\n",
       "      <td>-0.139116</td>\n",
       "    </tr>\n",
       "    <tr>\n",
       "      <th>17</th>\n",
       "      <td>1963</td>\n",
       "      <td>53.244178</td>\n",
       "      <td>11.802321</td>\n",
       "      <td>0.196120</td>\n",
       "    </tr>\n",
       "    <tr>\n",
       "      <th>18</th>\n",
       "      <td>1964</td>\n",
       "      <td>51.738377</td>\n",
       "      <td>10.965765</td>\n",
       "      <td>-0.640436</td>\n",
       "    </tr>\n",
       "    <tr>\n",
       "      <th>19</th>\n",
       "      <td>1973</td>\n",
       "      <td>53.724455</td>\n",
       "      <td>12.069142</td>\n",
       "      <td>0.462941</td>\n",
       "    </tr>\n",
       "    <tr>\n",
       "      <th>20</th>\n",
       "      <td>1974</td>\n",
       "      <td>52.948795</td>\n",
       "      <td>11.638220</td>\n",
       "      <td>0.032019</td>\n",
       "    </tr>\n",
       "    <tr>\n",
       "      <th>21</th>\n",
       "      <td>1975</td>\n",
       "      <td>51.759255</td>\n",
       "      <td>10.977364</td>\n",
       "      <td>-0.628837</td>\n",
       "    </tr>\n",
       "    <tr>\n",
       "      <th>22</th>\n",
       "      <td>1976</td>\n",
       "      <td>52.318874</td>\n",
       "      <td>11.288263</td>\n",
       "      <td>-0.317938</td>\n",
       "    </tr>\n",
       "    <tr>\n",
       "      <th>23</th>\n",
       "      <td>1977</td>\n",
       "      <td>52.179326</td>\n",
       "      <td>11.210737</td>\n",
       "      <td>-0.395464</td>\n",
       "    </tr>\n",
       "    <tr>\n",
       "      <th>24</th>\n",
       "      <td>1978</td>\n",
       "      <td>53.401075</td>\n",
       "      <td>11.889486</td>\n",
       "      <td>0.283285</td>\n",
       "    </tr>\n",
       "    <tr>\n",
       "      <th>25</th>\n",
       "      <td>1979</td>\n",
       "      <td>46.035137</td>\n",
       "      <td>7.797299</td>\n",
       "      <td>-3.808902</td>\n",
       "    </tr>\n",
       "    <tr>\n",
       "      <th>26</th>\n",
       "      <td>1989</td>\n",
       "      <td>57.375099</td>\n",
       "      <td>14.097277</td>\n",
       "      <td>2.491076</td>\n",
       "    </tr>\n",
       "    <tr>\n",
       "      <th>27</th>\n",
       "      <td>1990</td>\n",
       "      <td>53.283575</td>\n",
       "      <td>11.824208</td>\n",
       "      <td>0.218007</td>\n",
       "    </tr>\n",
       "    <tr>\n",
       "      <th>28</th>\n",
       "      <td>1991</td>\n",
       "      <td>53.646209</td>\n",
       "      <td>12.025672</td>\n",
       "      <td>0.419471</td>\n",
       "    </tr>\n",
       "    <tr>\n",
       "      <th>29</th>\n",
       "      <td>1992</td>\n",
       "      <td>55.011164</td>\n",
       "      <td>12.783980</td>\n",
       "      <td>1.177779</td>\n",
       "    </tr>\n",
       "    <tr>\n",
       "      <th>30</th>\n",
       "      <td>1993</td>\n",
       "      <td>52.766187</td>\n",
       "      <td>11.536771</td>\n",
       "      <td>-0.069430</td>\n",
       "    </tr>\n",
       "    <tr>\n",
       "      <th>31</th>\n",
       "      <td>1994</td>\n",
       "      <td>53.998606</td>\n",
       "      <td>12.221448</td>\n",
       "      <td>0.615247</td>\n",
       "    </tr>\n",
       "    <tr>\n",
       "      <th>32</th>\n",
       "      <td>1995</td>\n",
       "      <td>54.859415</td>\n",
       "      <td>12.699675</td>\n",
       "      <td>1.093474</td>\n",
       "    </tr>\n",
       "    <tr>\n",
       "      <th>33</th>\n",
       "      <td>1996</td>\n",
       "      <td>52.843757</td>\n",
       "      <td>11.579865</td>\n",
       "      <td>-0.026336</td>\n",
       "    </tr>\n",
       "    <tr>\n",
       "      <th>34</th>\n",
       "      <td>1997</td>\n",
       "      <td>55.201467</td>\n",
       "      <td>12.889704</td>\n",
       "      <td>1.283503</td>\n",
       "    </tr>\n",
       "    <tr>\n",
       "      <th>35</th>\n",
       "      <td>1998</td>\n",
       "      <td>54.650058</td>\n",
       "      <td>12.583366</td>\n",
       "      <td>0.977164</td>\n",
       "    </tr>\n",
       "    <tr>\n",
       "      <th>36</th>\n",
       "      <td>1999</td>\n",
       "      <td>51.664399</td>\n",
       "      <td>10.924666</td>\n",
       "      <td>-0.681535</td>\n",
       "    </tr>\n",
       "    <tr>\n",
       "      <th>38</th>\n",
       "      <td>2004</td>\n",
       "      <td>53.617775</td>\n",
       "      <td>12.009875</td>\n",
       "      <td>0.403674</td>\n",
       "    </tr>\n",
       "    <tr>\n",
       "      <th>39</th>\n",
       "      <td>2005</td>\n",
       "      <td>52.921161</td>\n",
       "      <td>11.622867</td>\n",
       "      <td>0.016666</td>\n",
       "    </tr>\n",
       "    <tr>\n",
       "      <th>40</th>\n",
       "      <td>2006</td>\n",
       "      <td>53.037466</td>\n",
       "      <td>11.687481</td>\n",
       "      <td>0.081280</td>\n",
       "    </tr>\n",
       "    <tr>\n",
       "      <th>41</th>\n",
       "      <td>2007</td>\n",
       "      <td>51.532975</td>\n",
       "      <td>10.851653</td>\n",
       "      <td>-0.754548</td>\n",
       "    </tr>\n",
       "    <tr>\n",
       "      <th>42</th>\n",
       "      <td>2008</td>\n",
       "      <td>50.277407</td>\n",
       "      <td>10.154115</td>\n",
       "      <td>-1.452086</td>\n",
       "    </tr>\n",
       "    <tr>\n",
       "      <th>43</th>\n",
       "      <td>2009</td>\n",
       "      <td>51.702236</td>\n",
       "      <td>10.945687</td>\n",
       "      <td>-0.660514</td>\n",
       "    </tr>\n",
       "    <tr>\n",
       "      <th>44</th>\n",
       "      <td>2010</td>\n",
       "      <td>53.380732</td>\n",
       "      <td>11.878185</td>\n",
       "      <td>0.271984</td>\n",
       "    </tr>\n",
       "    <tr>\n",
       "      <th>45</th>\n",
       "      <td>2011</td>\n",
       "      <td>50.582063</td>\n",
       "      <td>10.323368</td>\n",
       "      <td>-1.282833</td>\n",
       "    </tr>\n",
       "    <tr>\n",
       "      <th>46</th>\n",
       "      <td>2012</td>\n",
       "      <td>51.661364</td>\n",
       "      <td>10.922980</td>\n",
       "      <td>-0.683221</td>\n",
       "    </tr>\n",
       "    <tr>\n",
       "      <th>47</th>\n",
       "      <td>2013</td>\n",
       "      <td>53.207913</td>\n",
       "      <td>11.782174</td>\n",
       "      <td>0.175973</td>\n",
       "    </tr>\n",
       "    <tr>\n",
       "      <th>48</th>\n",
       "      <td>2014</td>\n",
       "      <td>55.735483</td>\n",
       "      <td>13.186379</td>\n",
       "      <td>1.580178</td>\n",
       "    </tr>\n",
       "    <tr>\n",
       "      <th>49</th>\n",
       "      <td>2015</td>\n",
       "      <td>56.694345</td>\n",
       "      <td>13.719081</td>\n",
       "      <td>2.112880</td>\n",
       "    </tr>\n",
       "    <tr>\n",
       "      <th>50</th>\n",
       "      <td>2016</td>\n",
       "      <td>54.579811</td>\n",
       "      <td>12.544339</td>\n",
       "      <td>0.938138</td>\n",
       "    </tr>\n",
       "    <tr>\n",
       "      <th>51</th>\n",
       "      <td>2017</td>\n",
       "      <td>52.355929</td>\n",
       "      <td>11.308849</td>\n",
       "      <td>-0.297352</td>\n",
       "    </tr>\n",
       "    <tr>\n",
       "      <th>52</th>\n",
       "      <td>2018</td>\n",
       "      <td>53.713784</td>\n",
       "      <td>12.063213</td>\n",
       "      <td>0.457012</td>\n",
       "    </tr>\n",
       "  </tbody>\n",
       "</table>\n",
       "</div>"
      ],
      "text/plain": [
       "    year  HourlyDryBulbTemperature  mean temp in C  raw_anomaly\n",
       "1   1944                 51.586045       10.881136    -0.725065\n",
       "2   1948                 50.481203       10.267335    -1.338866\n",
       "3   1949                 51.144603       10.635891    -0.970310\n",
       "4   1950                 50.970971       10.539429    -1.066772\n",
       "5   1951                 51.826350       11.014639    -0.591562\n",
       "6   1952                 51.866864       11.037147    -0.569054\n",
       "7   1953                 53.039963       11.688869     0.082668\n",
       "8   1954                 51.133805       10.629892    -0.976309\n",
       "9   1955                 49.597032        9.776129    -1.830072\n",
       "10  1956                 51.218085       10.676714    -0.929487\n",
       "11  1957                 52.190629       11.217016    -0.389185\n",
       "12  1958                 55.321840       12.956578     1.350377\n",
       "13  1959                 52.363055       11.312808    -0.293393\n",
       "14  1960                 52.307946       11.282192    -0.324009\n",
       "15  1961                 53.514113       11.952285     0.346084\n",
       "16  1962                 52.640753       11.467085    -0.139116\n",
       "17  1963                 53.244178       11.802321     0.196120\n",
       "18  1964                 51.738377       10.965765    -0.640436\n",
       "19  1973                 53.724455       12.069142     0.462941\n",
       "20  1974                 52.948795       11.638220     0.032019\n",
       "21  1975                 51.759255       10.977364    -0.628837\n",
       "22  1976                 52.318874       11.288263    -0.317938\n",
       "23  1977                 52.179326       11.210737    -0.395464\n",
       "24  1978                 53.401075       11.889486     0.283285\n",
       "25  1979                 46.035137        7.797299    -3.808902\n",
       "26  1989                 57.375099       14.097277     2.491076\n",
       "27  1990                 53.283575       11.824208     0.218007\n",
       "28  1991                 53.646209       12.025672     0.419471\n",
       "29  1992                 55.011164       12.783980     1.177779\n",
       "30  1993                 52.766187       11.536771    -0.069430\n",
       "31  1994                 53.998606       12.221448     0.615247\n",
       "32  1995                 54.859415       12.699675     1.093474\n",
       "33  1996                 52.843757       11.579865    -0.026336\n",
       "34  1997                 55.201467       12.889704     1.283503\n",
       "35  1998                 54.650058       12.583366     0.977164\n",
       "36  1999                 51.664399       10.924666    -0.681535\n",
       "38  2004                 53.617775       12.009875     0.403674\n",
       "39  2005                 52.921161       11.622867     0.016666\n",
       "40  2006                 53.037466       11.687481     0.081280\n",
       "41  2007                 51.532975       10.851653    -0.754548\n",
       "42  2008                 50.277407       10.154115    -1.452086\n",
       "43  2009                 51.702236       10.945687    -0.660514\n",
       "44  2010                 53.380732       11.878185     0.271984\n",
       "45  2011                 50.582063       10.323368    -1.282833\n",
       "46  2012                 51.661364       10.922980    -0.683221\n",
       "47  2013                 53.207913       11.782174     0.175973\n",
       "48  2014                 55.735483       13.186379     1.580178\n",
       "49  2015                 56.694345       13.719081     2.112880\n",
       "50  2016                 54.579811       12.544339     0.938138\n",
       "51  2017                 52.355929       11.308849    -0.297352\n",
       "52  2018                 53.713784       12.063213     0.457012"
      ]
     },
     "execution_count": 374,
     "metadata": {},
     "output_type": "execute_result"
    }
   ],
   "source": [
    "mega_year = pd.DataFrame(mega_dfs[[\"year\",\"HourlyDryBulbTemperature\"]])\n",
    "year_ms = mega_year.groupby(\"year\")\n",
    "year_means = pd.DataFrame(year_ms[\"HourlyDryBulbTemperature\"].mean())\n",
    "\n",
    "# (32°F − 32) × 5/9 = 0°C\n",
    "\n",
    "year_means[\"mean temp in C\"] = year_means[\"HourlyDryBulbTemperature\"].map(lambda x:((x-32)*(5/9)))\n",
    "\n",
    "\n",
    "# diff between base_mean and year_mean\n",
    "year_means[\"raw_anomaly\"] = year_means[\"mean temp in C\"] - ((base_mean-32)*(5/9))\n",
    "\n",
    "year_means = year_means.reset_index()\n",
    "\n",
    "#take out 1943 and 2019 b/c they aren't full years\n",
    "year_means = year_means.iloc[1:53,:]\n",
    "\n",
    "# 2003 aka index 37 is also incomplete\n",
    "year_means = year_means.drop(37)\n",
    "year_means"
   ]
  },
  {
   "cell_type": "code",
   "execution_count": 375,
   "metadata": {},
   "outputs": [
    {
     "data": {
      "image/png": "[encoded data removed]",
      "text/plain": [
       "<Figure size 1728x576 with 1 Axes>"
      ]
     },
     "metadata": {
      "needs_background": "light"
     },
     "output_type": "display_data"
    }
   ],
   "source": [
    "# plot temperature anomaly for 1944-2018\n",
    "\n",
    "fig, ax = plt.subplots(1, 1, figsize=(24, 8))\n",
    "ax.plot(year_means['year'],year_means[\"raw_anomaly\"] , label = \"temp anomalies\")\n",
    "ax.set_yticks([-5,-4,-3,-2,-1,0,1,2,3,4,5])\n",
    "\n",
    "ax.set_xticks(year_means['year'])\n",
    "ax.set_title(\"annual temperature anomalies 1944 - 2018, Boeing Field\")\n",
    "ax.legend(loc='best')\n",
    "\n",
    "plt.show()"
   ]
  },
  {
   "cell_type": "code",
   "execution_count": 367,
   "metadata": {},
   "outputs": [],
   "source": [
    "# row 37, year 2003 - -16 :()"
   ]
  },
  {
   "cell_type": "code",
   "execution_count": 386,
   "metadata": {},
   "outputs": [],
   "source": [
    "#mega_dfs[mega_dfs[\"month\"] == 8].count()\n",
    "# do the anomalies to the right half vary significantly from the anomalies to the left?"
   ]
  },
  {
   "cell_type": "code",
   "execution_count": null,
   "metadata": {},
   "outputs": [],
   "source": [
    "# is ratio of change in my set in my years == to the ratio of change in the paleo?"
   ]
  }
 ],
 "metadata": {
  "kernelspec": {
   "display_name": "Python 3",
   "language": "python",
   "name": "python3"
  },
  "language_info": {
   "codemirror_mode": {
    "name": "ipython",
    "version": 3
   },
   "file_extension": ".py",
   "mimetype": "text/x-python",
   "name": "python",
   "nbconvert_exporter": "python",
   "pygments_lexer": "ipython3",
   "version": "3.7.1"
  }
 },
 "nbformat": 4,
 "nbformat_minor": 2
}
